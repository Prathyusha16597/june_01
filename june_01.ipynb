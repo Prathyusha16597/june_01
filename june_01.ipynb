{
 "cells": [
  {
   "cell_type": "code",
   "execution_count": 15,
   "id": "6d8cac24",
   "metadata": {},
   "outputs": [
    {
     "name": "stdout",
     "output_type": "stream",
     "text": [
      "Enter a how many Numbers : 2.4\n",
      "Only Enter Integer Value \n",
      "Enter a how many Numbers : ten\n",
      "Only Enter Integer Value \n",
      "Enter a how many Numbers : 10\n",
      "Enter a Numbers : 67\n",
      "Enter a Numbers : 10\n",
      "Enter a Numbers : 89\n",
      "Enter a Numbers : 23\n",
      "Enter a Numbers : 8.9\n",
      "Enter Integer Value \n",
      "Enter a Numbers : 12\n",
      "Enter a Numbers : 90\n",
      "Enter a Numbers : 19\n",
      "Enter a Numbers : 9.3\n",
      "Enter Integer Value \n",
      "Enter a Numbers : 89\n",
      "Enter a Numbers : 14\n",
      "Enter a Numbers : 92\n",
      "Heighst Number :  92\n",
      "Lowest Number :  10\n"
     ]
    }
   ],
   "source": [
    "# enter 10 Numbers and find the heighest and lowest number\n",
    "# should not use list,set,tuple\n",
    "# use 1oop Statesments\n",
    "class Number:\n",
    "    def values(self):\n",
    "        h=0\n",
    "        l=99999\n",
    "        while True:\n",
    "            try:\n",
    "                n=int(input(\"Enter a how many Numbers : \"))\n",
    "                break\n",
    "            except ValueError:\n",
    "                print(\"Only Enter Integer Value \")\n",
    "        for i in range(1,n+1):\n",
    "            while True:\n",
    "                try:\n",
    "                    n1=int(input(\"Enter a Numbers : \"))\n",
    "                    break\n",
    "                    \n",
    "                except ValueError:\n",
    "                    print(\"Enter Integer Value \")\n",
    "            if n1>h:\n",
    "                h=n1\n",
    "            if n1<l:\n",
    "                l=n1\n",
    "                \n",
    "        print(\"Heighst Number : \",h)\n",
    "        print(\"Lowest Number : \",l)\n",
    "        \n",
    "n=Number()\n",
    "n.values()\n",
    "                "
   ]
  },
  {
   "cell_type": "code",
   "execution_count": 20,
   "id": "c77c7e6f",
   "metadata": {},
   "outputs": [
    {
     "name": "stdout",
     "output_type": "stream",
     "text": [
      "['sushil', 'arjun', 'damon', 'klaus', 'stpen', 'elaja', 'bani', 'elena']\n",
      "klaus\n",
      "elaja\n",
      "elena\n",
      "3\n"
     ]
    }
   ],
   "source": [
    "# display the names find how many are  there which  start with either e or k\n",
    "names=['sushil','arjun','damon','klaus','stpen','elaja','bani','elena']\n",
    "c=0\n",
    "print(names)\n",
    "for i in names:\n",
    "    if i.startswith('e') or i.startswith('k'):\n",
    "        c=c+1\n",
    "        print(i)\n",
    "    \n",
    "print(c)"
   ]
  },
  {
   "cell_type": "code",
   "execution_count": 23,
   "id": "9757b963",
   "metadata": {},
   "outputs": [
    {
     "name": "stdout",
     "output_type": "stream",
     "text": [
      "2\n"
     ]
    }
   ],
   "source": [
    "# data1=[12,55,78,199,201,........]\n",
    "# Process data1 and find how many 3 digit prime numbers are there\n",
    "data1=[12,55,78,199,201,307,101,56,281,823,12,90,569]\n",
    "c=0\n",
    "for i in data1:\n",
    "    if 100<=i<=999:\n",
    "        for j in range(2,i):\n",
    "            if i%j==0:\n",
    "                c=c+1\n",
    "print(c)\n",
    "                \n",
    "        \n",
    "    "
   ]
  },
  {
   "cell_type": "code",
   "execution_count": 43,
   "id": "e7dcfe54",
   "metadata": {},
   "outputs": [
    {
     "name": "stdout",
     "output_type": "stream",
     "text": [
      "{66, 100, 440, 43, 78, 894, 19, 55, 22, 23, 56, 90, 190}\n",
      "[190, 90, 56, 23, 22, 55, 19, 894, 78, 43, 440, 100, 66]\n"
     ]
    }
   ],
   "source": [
    "# add data1 and data2  into result_data(only uniqu once)\n",
    "#display the result_data all the elements for last to first\n",
    "data1=[56,78,190,100,23,894,90,66]\n",
    "data2=[440,22,55,190,23,66,19,43]\n",
    "result_data=set(data1+data2)\n",
    "print(result_data)\n",
    "result_data1=list(result_data)\n",
    "result_data1.reverse()\n",
    "print(result_data1)\n",
    "\n"
   ]
  },
  {
   "cell_type": "code",
   "execution_count": 51,
   "id": "7303f710",
   "metadata": {},
   "outputs": [
    {
     "name": "stdout",
     "output_type": "stream",
     "text": [
      "70\n",
      "35\n",
      "14\n",
      "49\n",
      "4\n"
     ]
    }
   ],
   "source": [
    "# Filter out the Number divisible by 7,form the follwing\n",
    "# Only last 10 elements need to be only Processed\n",
    "Data1=[78,90,12,90,67,100,178,70,25,35,92,14,89,49]\n",
    "c=0\n",
    "for i in Data1[-10:]:\n",
    "    #print(i)\n",
    "    if i%7==0:\n",
    "        c=c+1\n",
    "        print(i)\n",
    "print(c)\n",
    "    \n"
   ]
  },
  {
   "cell_type": "code",
   "execution_count": 56,
   "id": "4fdeb9e7",
   "metadata": {},
   "outputs": [
    {
     "name": "stdout",
     "output_type": "stream",
     "text": [
      "[10, 189, 90, 88, 1, 45, 12, 35]\n",
      "[40, 756, 360, 352, 4, 180, 48, 140]\n"
     ]
    }
   ],
   "source": [
    "# Multiply all the elements of data1 with the contents of numb as given store to the result in data2,display the same\n",
    "given_data1=[10,189,90,88,1,45,12,35]\n",
    "numb=4\n",
    "data2=[]\n",
    "for i in given_data:\n",
    "    result_data=i*numb\n",
    "    data2.append(result_data)\n",
    "print(given_data1)\n",
    "print(data2)"
   ]
  },
  {
   "cell_type": "code",
   "execution_count": null,
   "id": "00a72281",
   "metadata": {},
   "outputs": [],
   "source": []
  }
 ],
 "metadata": {
  "kernelspec": {
   "display_name": "Python 3",
   "language": "python",
   "name": "python3"
  },
  "language_info": {
   "codemirror_mode": {
    "name": "ipython",
    "version": 3
   },
   "file_extension": ".py",
   "mimetype": "text/x-python",
   "name": "python",
   "nbconvert_exporter": "python",
   "pygments_lexer": "ipython3",
   "version": "3.8.8"
  }
 },
 "nbformat": 4,
 "nbformat_minor": 5
}
